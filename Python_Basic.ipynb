{
 "cells": [
  {
   "cell_type": "code",
   "execution_count": null,
   "metadata": {
    "collapsed": true
   },
   "outputs": [],
   "source": []
  },
  {
   "cell_type": "markdown",
   "metadata": {},
   "source": [
    " ## What is Anaconda #\n",
    "[Anaconda Distribution](https://www.anaconda.com/distribution)"
   ]
  },
  {
   "cell_type": "markdown",
   "metadata": {},
   "source": [
    " ## How does Jupyter work #\n",
    "Jupyter is a notebook interface that allows editing and running code (e.g., Python) and rich text elements (figures, tables, links...) via a web browser. \n",
    "\n",
    "- [Jupyter Notebook](http://jupyter.org/)\n",
    "- [What is the Jupyter Notebook](http://jupyter-notebook-beginner-guide.readthedocs.io/en/latest/what_is_jupyter.html)\n"
   ]
  },
  {
   "cell_type": "code",
   "execution_count": null,
   "metadata": {
    "collapsed": true
   },
   "outputs": [],
   "source": []
  },
  {
   "cell_type": "code",
   "execution_count": null,
   "metadata": {
    "collapsed": true
   },
   "outputs": [],
   "source": []
  },
  {
   "cell_type": "code",
   "execution_count": null,
   "metadata": {
    "collapsed": true
   },
   "outputs": [],
   "source": [
    "5 main data types : Numbers, String, List, Tuple, Dictionary <br> \n",
    "7 basic arithmatic operators : +, -, *, /, %, //, **"
   ]
  },
  {
   "cell_type": "markdown",
   "metadata": {},
   "source": [
    "# Numbers"
   ]
  },
  {
   "cell_type": "code",
   "execution_count": 1,
   "metadata": {},
   "outputs": [
    {
     "name": "stdout",
     "output_type": "stream",
     "text": [
      "7 + 3 =  10\n",
      "7 - 3 =  4\n",
      "7 * 3 =  21\n",
      "7 / 3 =  2.3333333333333335\n",
      "7 % 3 =  1\n",
      "7 // 3 =  2\n",
      "7 ** 3 =  343\n"
     ]
    }
   ],
   "source": [
    "print('7 + 3 = ', 7+3)\n",
    "print('7 - 3 = ', 7-3)\n",
    "print('7 * 3 = ', 7*3)\n",
    "print('7 / 3 = ', 7/3)\n",
    "print('7 % 3 = ', 7%3)\n",
    "print('7 // 3 = ', 7//3)\n",
    "print('7 ** 3 = ', 7**3)\n",
    "\n",
    "# Order matters : PEMDAS\n",
    "# print('1+2-3*4 is different from (1+2-3)*4 ,\\n i.e.', \n",
    "#      '1+2-3*4 is', 1+2-3*4, 'but, (1+2-3)*4 is', (1+2-3)*4)"
   ]
  },
  {
   "cell_type": "code",
   "execution_count": null,
   "metadata": {
    "collapsed": true
   },
   "outputs": [],
   "source": []
  },
  {
   "cell_type": "markdown",
   "metadata": {},
   "source": [
    "# Strings"
   ]
  },
  {
   "cell_type": "code",
   "execution_count": 2,
   "metadata": {},
   "outputs": [
    {
     "name": "stdout",
     "output_type": "stream",
     "text": [
      "Howdy! Aggie rocks.\n",
      "Howdy!\n",
      "Aggie rocks.\n"
     ]
    }
   ],
   "source": [
    "string_0 = 'Howdy! Aggie rocks.'\n",
    "\n",
    "string_1 = '''Howdy!\n",
    "Aggie rocks.'''\n",
    "\n",
    "print(string_0)\n",
    "print(string_1)\n",
    "\n",
    "#print('\\n')\n",
    "\n",
    "#string_2 = string_0*5\n",
    "#print(string_2)"
   ]
  },
  {
   "cell_type": "code",
   "execution_count": null,
   "metadata": {
    "collapsed": true
   },
   "outputs": [],
   "source": []
  },
  {
   "cell_type": "markdown",
   "metadata": {},
   "source": [
    "# List"
   ]
  },
  {
   "cell_type": "code",
   "execution_count": 3,
   "metadata": {},
   "outputs": [
    {
     "name": "stdout",
     "output_type": "stream",
     "text": [
      "['R', 'Python', 'Tableau', 'SQL']\n",
      "first training : R\n",
      "[['R', 'Python', 'Tableau', 'SQL'], [1, 2, 3, 4]]\n",
      "['R', 'Python', 'Tableau', 'SQL', 1, 2, 3, 4]\n",
      "['R', 'Python', 'Tableau', 'SQL', 'MATLAB']\n",
      "['Data Analytics', 'R', 'Python', 'Tableau', 'SQL', 'MATLAB']\n"
     ]
    }
   ],
   "source": [
    "skills = ['R', 'Python', 'Tableau', 'SQL']\n",
    "print(skills)\n",
    "\n",
    "print('first training :', skills[0])\n",
    "\n",
    "order = [1,2,3,4]\n",
    "dac = [skills, order]   # dac = data_analytics_club\n",
    "print(dac)\n",
    "\n",
    "single_list = skills+order\n",
    "print(single_list)\n",
    "\n",
    "skills.append('MATLAB')\n",
    "print(skills)\n",
    "\n",
    "skills.insert(0, 'Data Analytics')\n",
    "print(skills)\n",
    "\n",
    "\n",
    "# skills.remove('SQL')\n",
    "# print(skills)\n",
    "# del skills[4]\n",
    "# print(skills)"
   ]
  },
  {
   "cell_type": "code",
   "execution_count": null,
   "metadata": {
    "collapsed": true
   },
   "outputs": [],
   "source": []
  },
  {
   "cell_type": "markdown",
   "metadata": {},
   "source": [
    "# Tuple"
   ]
  },
  {
   "cell_type": "code",
   "execution_count": 4,
   "metadata": {},
   "outputs": [
    {
     "name": "stdout",
     "output_type": "stream",
     "text": [
      "Python\n",
      "3\n",
      "('R', 'Python', 'Tableau', 'SQL', 1, 2, 3, 4)\n",
      "<class 'list'>\n",
      "<class 'tuple'>\n"
     ]
    }
   ],
   "source": [
    "# Similar to list, but unlike LIST, we CANNOT change a Tuple once it's created\n",
    "skills_t0 = 'R', 'Python', 'Tableau', 'SQL'\n",
    "skills_t1 = (1,2,3,4)\n",
    "dac_t = skills_t0 + skills_t1\n",
    "\n",
    "print (skills[2])\n",
    "print (skills_t1[2])\n",
    "print (dac_t)\n",
    "\n",
    "#ERROR when try to change a tuple\n",
    "skills[0] = 'X'\n",
    "\n",
    "#-------------\n",
    "#Convertion\n",
    "new_list = list(dac_t)\n",
    "print(type(new_list))\n",
    "\n",
    "new_tupple = tuple(dac)\n",
    "print(type(new_tupple))"
   ]
  },
  {
   "cell_type": "markdown",
   "metadata": {},
   "source": [
    "# Dictionaries"
   ]
  },
  {
   "cell_type": "code",
   "execution_count": 5,
   "metadata": {},
   "outputs": [
    {
     "name": "stdout",
     "output_type": "stream",
     "text": [
      "US_currency_0 =  {'Dollar': '100 cents', 'Quarters': '25 cents', 'Dime': '10 cents', 'Penny': '5 cents'}\n",
      "US_currency_1 =  {'Dollar': 100, 'Quarters': 25, 'Dime': 10, 'Penny': 5}\n",
      "US_currency_1 =  {'Dollar': 100, 'Quarters': 25, 'Dime': 10, 'Penny': 5, 'EUR': 1.23}\n",
      "100 cents\n",
      "25\n",
      "5\n",
      "US_currency_0 =  {'Dollar': '100 cents', 'Quarters': '25 cents', 'Dime': 10, 'Penny': '5 cents'}\n",
      "KEYS =  dict_keys(['Dollar', 'Quarters', 'Dime', 'Penny']) || data type =  <class 'dict_keys'>\n",
      "VALUES =  dict_values(['100 cents', '25 cents', 10, '5 cents']) || data type =  <class 'dict_keys'>\n",
      "ITEMS =  dict_items([('Dollar', '100 cents'), ('Quarters', '25 cents'), ('Dime', 10), ('Penny', '5 cents')]) || data type =  <class 'dict_keys'>\n"
     ]
    }
   ],
   "source": [
    "US_currency_0 = {'Dollar':'100 cents', 'Quarters':'25 cents', 'Dime':'10 cents', 'Penny':'5 cents'}\n",
    "US_currency_1 = {'Dollar':100, 'Quarters':25, 'Dime':10, 'Penny':5}\n",
    "\n",
    "print('US_currency_0 = ', US_currency_0)\n",
    "print ('US_currency_1 = ', US_currency_1)\n",
    "\n",
    "US_currency_1 ['EUR'] = 1.23\n",
    "print('US_currency_1 = ', US_currency_1)\n",
    "\n",
    "print(US_currency_0['Dollar'])\n",
    "print(US_currency_1['Quarters'])\n",
    "\n",
    "print(US_currency_1.get('Penny'))\n",
    "\n",
    "US_currency_0['Dime'] = 10\n",
    "\n",
    "print('US_currency_0 = ', US_currency_0)\n",
    "\n",
    "print('KEYS = ', US_currency_0.keys(),'||', 'data type = ', type(US_currency_1.keys()))\n",
    "print('VALUES = ', US_currency_0.values(),'||', 'data type = ', type(US_currency_1.keys()))\n",
    "print('ITEMS = ', US_currency_0.items(),'||', 'data type = ', type(US_currency_1.keys()))\n",
    "\n",
    "# ----------------\n",
    "\n",
    "# word = ['One', 'Two', 'Three', 'Four', 'Five']\n",
    "# numbers = [1, 2, 3, 4, 5]\n",
    "# d = zip(word,numbers)\n",
    "# print (dict(d))"
   ]
  },
  {
   "cell_type": "code",
   "execution_count": null,
   "metadata": {
    "collapsed": true
   },
   "outputs": [],
   "source": []
  },
  {
   "cell_type": "markdown",
   "metadata": {
    "collapsed": true
   },
   "source": [
    "# Variables\n",
    "* We use \"=\" to assign a value to a variable.\n",
    "* We can refer to the value with its name.\n",
    "#### Type of variables:\n",
    "   - numerical:\n",
    "    - int (integer): a number without a fractional part.\n",
    "    - float (floating): a number that has both an integer and fractional part.\n",
    "   - non-numerical:\n",
    "    - str (string): a type of data to represent text.\n",
    "    - bool (boolean): a type to represent logical values. (Can only be \"True\" or \"False.\" Note that the first letter must be capitalized.)\n",
    "    <br> \n",
    "    <br>\n",
    "    \n",
    "* <i> <b> Note: \"=\" is the assignment symbol and cannot be used to test equality."
   ]
  },
  {
   "cell_type": "code",
   "execution_count": 6,
   "metadata": {},
   "outputs": [
    {
     "name": "stdout",
     "output_type": "stream",
     "text": [
      "x =  5 ; y =  15\n",
      "<class 'int'> <class 'float'> <class 'str'> <class 'bool'>\n",
      "True\n",
      "False\n"
     ]
    }
   ],
   "source": [
    "# ASSIGNMENT\n",
    "x = 5\n",
    "y = x+10\n",
    "print('x = ', x,';', 'y = ', y)\n",
    "#----------\n",
    "# TYPES\n",
    "Z = 100  #integer\n",
    "X = 13.7\n",
    "Y = 'Data Analytics Club is awesome!'\n",
    "W = True\n",
    "\n",
    "print(type(Z), type(X), type(Y), type(W))\n",
    "#----------\n",
    "# BOOLEAN\n",
    "z = 10\n",
    "x = 10.0\n",
    "print(z == x)\n",
    "print(z == y)"
   ]
  },
  {
   "cell_type": "code",
   "execution_count": 7,
   "metadata": {},
   "outputs": [
    {
     "data": {
      "text/plain": [
       "int"
      ]
     },
     "execution_count": 7,
     "metadata": {},
     "output_type": "execute_result"
    }
   ],
   "source": [
    "type(Z)"
   ]
  },
  {
   "cell_type": "markdown",
   "metadata": {},
   "source": [
    "#### Operations among different types of data ####"
   ]
  },
  {
   "cell_type": "code",
   "execution_count": 16,
   "metadata": {},
   "outputs": [
    {
     "name": "stdout",
     "output_type": "stream",
     "text": [
      "DataAnalytics\n"
     ]
    },
    {
     "ename": "TypeError",
     "evalue": "unsupported operand type(s) for +: 'int' and 'str'",
     "output_type": "error",
     "traceback": [
      "\u001b[1;31m---------------------------------------------------------------------------\u001b[0m",
      "\u001b[1;31mTypeError\u001b[0m                                 Traceback (most recent call last)",
      "\u001b[1;32m<ipython-input-16-5ade5bee298d>\u001b[0m in \u001b[0;36m<module>\u001b[1;34m()\u001b[0m\n\u001b[0;32m      5\u001b[0m \u001b[0mpython\u001b[0m \u001b[1;33m=\u001b[0m \u001b[1;36m101\u001b[0m\u001b[1;33m\u001b[0m\u001b[0m\n\u001b[0;32m      6\u001b[0m \u001b[0mc\u001b[0m \u001b[1;33m=\u001b[0m \u001b[1;34m' is basic python!'\u001b[0m\u001b[1;33m\u001b[0m\u001b[0m\n\u001b[1;32m----> 7\u001b[1;33m \u001b[0mprint\u001b[0m\u001b[1;33m(\u001b[0m\u001b[0mpython\u001b[0m \u001b[1;33m+\u001b[0m \u001b[0mc\u001b[0m\u001b[1;33m)\u001b[0m\u001b[1;33m\u001b[0m\u001b[0m\n\u001b[0m\u001b[0;32m      8\u001b[0m \u001b[1;33m\u001b[0m\u001b[0m\n\u001b[0;32m      9\u001b[0m \u001b[0mprint\u001b[0m\u001b[1;33m(\u001b[0m\u001b[0mstr\u001b[0m\u001b[1;33m(\u001b[0m\u001b[0mpython\u001b[0m\u001b[1;33m)\u001b[0m\u001b[1;33m+\u001b[0m\u001b[0mc\u001b[0m\u001b[1;33m)\u001b[0m\u001b[1;33m\u001b[0m\u001b[0m\n",
      "\u001b[1;31mTypeError\u001b[0m: unsupported operand type(s) for +: 'int' and 'str'"
     ]
    }
   ],
   "source": [
    "a = 'Data'\n",
    "b = 'Analytics'\n",
    "print(a+b)\n",
    "\n",
    "python = 101\n",
    "c = ' is basic python!'\n",
    "print(python + c)\n",
    "\n",
    "print(str(python)+c)"
   ]
  },
  {
   "cell_type": "markdown",
   "metadata": {},
   "source": [
    "# Built in function\n",
    "\n",
    "#### General\n",
    "* print, type, input, int, str \n",
    "\n",
    "####  Arithmatic\n",
    "* round, abs, complex, divmod, isinstance\n",
    "\n",
    "#### List, Tuple\n",
    "* len, min, max, list, count, append, extend, index, insert, pop, del, reverse, sort/sorted, find, \n",
    "\n",
    "#### String\n",
    "* capitalize,  upper, lower, endswith, center, join, split, replace, strip\n",
    "\n",
    "#### Dictionary\n",
    "* zip, values, keys, items "
   ]
  },
  {
   "cell_type": "markdown",
   "metadata": {},
   "source": [
    "## General"
   ]
  },
  {
   "cell_type": "code",
   "execution_count": 17,
   "metadata": {},
   "outputs": [
    {
     "name": "stdout",
     "output_type": "stream",
     "text": [
      "string\n",
      "1000\n",
      "[1, 2, 3, 4, 5]\n",
      "(1, 2, 3, 4, 5)\n",
      "{'Texas': 'USA', 'Kolkata': 'India'}\n"
     ]
    }
   ],
   "source": [
    "# print\n",
    "a = 'string'\n",
    "b = 1000\n",
    "c = [1,2,3,4,5]\n",
    "d = (1,2,3,4,5)\n",
    "e = {'Texas' : 'USA', 'Kolkata' : 'India'}\n",
    "\n",
    "print(a)\n",
    "print(b)\n",
    "print(c)\n",
    "print(d)\n",
    "print(e)"
   ]
  },
  {
   "cell_type": "code",
   "execution_count": 18,
   "metadata": {},
   "outputs": [
    {
     "name": "stdout",
     "output_type": "stream",
     "text": [
      "<class 'str'> <class 'int'> <class 'list'> <class 'tuple'> <class 'dict'>\n"
     ]
    },
    {
     "data": {
      "text/plain": [
       "int"
      ]
     },
     "execution_count": 18,
     "metadata": {},
     "output_type": "execute_result"
    }
   ],
   "source": [
    "#type\n",
    "print(type(a), type(b), type(c), type(d), type(e))\n",
    "type(b)"
   ]
  },
  {
   "cell_type": "code",
   "execution_count": 19,
   "metadata": {},
   "outputs": [
    {
     "name": "stdout",
     "output_type": "stream",
     "text": [
      "Enter any input here =5\n",
      "5\n"
     ]
    }
   ],
   "source": [
    "#input\n",
    "x = input('Enter any input here =')\n",
    "print(x)\n",
    "\n",
    "#error\n",
    "#print(x+5)"
   ]
  },
  {
   "cell_type": "code",
   "execution_count": 186,
   "metadata": {},
   "outputs": [
    {
     "name": "stdout",
     "output_type": "stream",
     "text": [
      "Enter any input here =5\n",
      "13\n"
     ]
    }
   ],
   "source": [
    "# input\n",
    "x = input('Enter any input here =')\n",
    "x = int(x)\n",
    "print(x+8)"
   ]
  },
  {
   "cell_type": "code",
   "execution_count": 187,
   "metadata": {},
   "outputs": [
    {
     "name": "stdout",
     "output_type": "stream",
     "text": [
      "Enter value for x = 5\n",
      "58\n"
     ]
    }
   ],
   "source": [
    "# string\n",
    "x = input('Enter value for x = ')\n",
    "y = x+ str(8)\n",
    "print(y)"
   ]
  },
  {
   "cell_type": "markdown",
   "metadata": {},
   "source": [
    "## Arithmatic"
   ]
  },
  {
   "cell_type": "markdown",
   "metadata": {},
   "source": [
    "**round( )** function rounds the input value to a specified number of places or to the nearest integer. "
   ]
  },
  {
   "cell_type": "code",
   "execution_count": 169,
   "metadata": {},
   "outputs": [
    {
     "name": "stdout",
     "output_type": "stream",
     "text": [
      "6\n",
      "5.62\n"
     ]
    }
   ],
   "source": [
    "#round\n",
    "print (round(5.6231)) \n",
    "print (round(5.6231, 2))"
   ]
  },
  {
   "cell_type": "markdown",
   "metadata": {},
   "source": [
    "**complex( )** is used to define a complex number and **abs( )** outputs the absolute value of the same."
   ]
  },
  {
   "cell_type": "code",
   "execution_count": 170,
   "metadata": {},
   "outputs": [
    {
     "name": "stdout",
     "output_type": "stream",
     "text": [
      "5\n",
      "5.385164807134504\n"
     ]
    }
   ],
   "source": [
    "#abs\n",
    "print(abs(-5))\n",
    "\n",
    "c =complex('5+2j')\n",
    "print (abs(c))"
   ]
  },
  {
   "cell_type": "markdown",
   "metadata": {},
   "source": [
    "**divmod(x,y)** outputs the quotient and the remainder in a tuple in the format (quotient, remainder). "
   ]
  },
  {
   "cell_type": "code",
   "execution_count": 171,
   "metadata": {},
   "outputs": [
    {
     "data": {
      "text/plain": [
       "(4, 1)"
      ]
     },
     "execution_count": 171,
     "metadata": {},
     "output_type": "execute_result"
    }
   ],
   "source": [
    "# divmod\n",
    "divmod(9,2)\n",
    "\n",
    "# type(divmod(9,2))\n",
    "#[q,r] = divmod(9,2)"
   ]
  },
  {
   "cell_type": "markdown",
   "metadata": {},
   "source": [
    "**isinstance( )** returns True, if the first argument is an instance of that class. Multiple classes can also be checked at once."
   ]
  },
  {
   "cell_type": "code",
   "execution_count": 172,
   "metadata": {},
   "outputs": [
    {
     "name": "stdout",
     "output_type": "stream",
     "text": [
      "True\n",
      "False\n",
      "True\n"
     ]
    }
   ],
   "source": [
    "print (isinstance(1, int))\n",
    "print (isinstance(1.0,int))\n",
    "print (isinstance(1.0,(int,float)))\n",
    "\n",
    "#print(isinstance([1,2], (int)))\n",
    "#print(isinstance([1,2][0], (int)))"
   ]
  },
  {
   "cell_type": "markdown",
   "metadata": {},
   "source": [
    "## List"
   ]
  },
  {
   "cell_type": "code",
   "execution_count": 173,
   "metadata": {
    "collapsed": true
   },
   "outputs": [],
   "source": [
    "fruits = ['apple', 'orange', 'pineapple', 'mangoes', 'banana']\n",
    "nums = [13,24,85,44,11,7,8,2,56,47]"
   ]
  },
  {
   "cell_type": "markdown",
   "metadata": {},
   "source": [
    "**len( )** is used to find the length of the list or the number of elements in a list."
   ]
  },
  {
   "cell_type": "code",
   "execution_count": 174,
   "metadata": {},
   "outputs": [
    {
     "name": "stdout",
     "output_type": "stream",
     "text": [
      "5 , 10\n"
     ]
    }
   ],
   "source": [
    "print(len(fruits),',',len(nums))"
   ]
  },
  {
   "cell_type": "markdown",
   "metadata": {},
   "source": [
    "**min( )** and **max( )** gives the minimum and maximum value in the list, if the list consists of all integer elements."
   ]
  },
  {
   "cell_type": "code",
   "execution_count": 175,
   "metadata": {},
   "outputs": [
    {
     "name": "stdout",
     "output_type": "stream",
     "text": [
      "2 , 85\n"
     ]
    }
   ],
   "source": [
    "print(min(nums), ',', max(nums))"
   ]
  },
  {
   "cell_type": "markdown",
   "metadata": {},
   "source": [
    "In a list with elements as string, **max( )** and **min( )** is applicable. **max( )** would return a string element whose <a href = 'https://en.wikipedia.org/wiki/ASCII'> ASCII value </a> is the highest and the lowest when **min( )** is used. "
   ]
  },
  {
   "cell_type": "code",
   "execution_count": 176,
   "metadata": {},
   "outputs": [
    {
     "name": "stdout",
     "output_type": "stream",
     "text": [
      "apple , pineapple\n"
     ]
    }
   ],
   "source": [
    "print(min(fruits),',', max(fruits))"
   ]
  },
  {
   "cell_type": "markdown",
   "metadata": {},
   "source": [
    "<i> ** Note that ** only the first index of each element is considered each time and if they value is the same then second index considered so on and so forth. <i>"
   ]
  },
  {
   "cell_type": "code",
   "execution_count": 177,
   "metadata": {},
   "outputs": [
    {
     "name": "stdout",
     "output_type": "stream",
     "text": [
      "apple , z\n"
     ]
    }
   ],
   "source": [
    "words = ['apple', 'azimuthalized', 'z', 'az']\n",
    "print(min(words), ',', max(words))"
   ]
  },
  {
   "cell_type": "markdown",
   "metadata": {},
   "source": [
    "But if you want to find the **max( )** string element based on the length of the string then another parameter **'key=len'** is declared inside the **max( )** and **min( )** function."
   ]
  },
  {
   "cell_type": "code",
   "execution_count": 178,
   "metadata": {},
   "outputs": [
    {
     "name": "stdout",
     "output_type": "stream",
     "text": [
      "z , azimuthalized\n"
     ]
    }
   ],
   "source": [
    "print(min(words, key = len), ',', max(words, key = len))"
   ]
  },
  {
   "cell_type": "markdown",
   "metadata": {},
   "source": [
    " ** <i> But what if numbers are declared as strings? <i> **"
   ]
  },
  {
   "cell_type": "code",
   "execution_count": 179,
   "metadata": {},
   "outputs": [
    {
     "name": "stdout",
     "output_type": "stream",
     "text": [
      "94 , 1\n"
     ]
    }
   ],
   "source": [
    "nlist = ['1','94','93','1000']\n",
    "print (max(nlist),',',min(nlist))"
   ]
  },
  {
   "cell_type": "markdown",
   "metadata": {},
   "source": [
    "**list()** function converts A string can be converted into a list of characters"
   ]
  },
  {
   "cell_type": "code",
   "execution_count": 185,
   "metadata": {},
   "outputs": [
    {
     "data": {
      "text/plain": [
       "['H', 'o', 'w', 'd', 'y', '!']"
      ]
     },
     "execution_count": 185,
     "metadata": {},
     "output_type": "execute_result"
    }
   ],
   "source": [
    "list('Howdy!')\n",
    "\n",
    "# # also converts tuples into list\n",
    "# tu = (1,2,3)\n",
    "# li = list(tu)"
   ]
  },
  {
   "cell_type": "markdown",
   "metadata": {},
   "source": [
    "**count( )** is used to count the number of a particular element that is present in the list. "
   ]
  },
  {
   "cell_type": "code",
   "execution_count": 224,
   "metadata": {},
   "outputs": [
    {
     "data": {
      "text/plain": [
       "4"
      ]
     },
     "execution_count": 224,
     "metadata": {},
     "output_type": "execute_result"
    }
   ],
   "source": [
    "num = [1,2,3,2,3,23,1,3,1,3,111,3,211,321,1]\n",
    "num.count(1)"
   ]
  },
  {
   "cell_type": "markdown",
   "metadata": {
    "collapsed": true
   },
   "source": [
    "**append( )** function can also be used to add a entire list at the end. Observe that the resultant list becomes a nested list."
   ]
  },
  {
   "cell_type": "code",
   "execution_count": 225,
   "metadata": {},
   "outputs": [
    {
     "name": "stdout",
     "output_type": "stream",
     "text": [
      "[1, 2, 3, 2, 3, 23, 1, 3, 1, 3, 111, 3, 211, 321, 1, [5, 4, 2, 8]]\n"
     ]
    }
   ],
   "source": [
    "lst1 = [5,4,2,8]\n",
    "num.append(lst1)\n",
    "print(num)"
   ]
  },
  {
   "cell_type": "markdown",
   "metadata": {},
   "source": [
    "But if nested list is not what is desired then **extend( )** function can be used."
   ]
  },
  {
   "cell_type": "code",
   "execution_count": 226,
   "metadata": {},
   "outputs": [
    {
     "name": "stdout",
     "output_type": "stream",
     "text": [
      "[1, 2, 3, 2, 3, 23, 1, 3, 1, 3, 111, 3, 211, 321, 1, 5, 4, 2, 8]\n"
     ]
    }
   ],
   "source": [
    "num = [1,2,3,2,3,23,1,3,1,3,111,3,211,321,1]\n",
    "num.extend(lst1)\n",
    "print(num)"
   ]
  },
  {
   "cell_type": "markdown",
   "metadata": {},
   "source": [
    "**index( )** is used to find the index value of a particular element. Note that if there are multiple elements of the same value then the ** first index value ** of that element is returned."
   ]
  },
  {
   "cell_type": "code",
   "execution_count": 227,
   "metadata": {},
   "outputs": [
    {
     "data": {
      "text/plain": [
       "2"
      ]
     },
     "execution_count": 227,
     "metadata": {},
     "output_type": "execute_result"
    }
   ],
   "source": [
    "num.index(3)"
   ]
  },
  {
   "cell_type": "markdown",
   "metadata": {},
   "source": [
    "**insert(x,y)** inserts y at x position."
   ]
  },
  {
   "cell_type": "code",
   "execution_count": 228,
   "metadata": {},
   "outputs": [
    {
     "name": "stdout",
     "output_type": "stream",
     "text": [
      "[1, 2, 3, 2, 3, 'name', 23, 1, 3, 1, 3, 111, 3, 211, 321, 1, 5, 4, 2, 8]\n"
     ]
    }
   ],
   "source": [
    "num.insert(5, 'name')\n",
    "print (num)"
   ]
  },
  {
   "cell_type": "markdown",
   "metadata": {},
   "source": [
    "insert(x,y) inserts but does not replace element. If you want to replace the element with another element you ** simply assign the value to that particular index**"
   ]
  },
  {
   "cell_type": "code",
   "execution_count": 229,
   "metadata": {},
   "outputs": [
    {
     "data": {
      "text/plain": [
       "[1, 2, 3, 2, 3, 'boo', 23, 1, 3, 1, 3, 111, 3, 211, 321, 1, 5, 4, 2, 8]"
      ]
     },
     "execution_count": 229,
     "metadata": {},
     "output_type": "execute_result"
    }
   ],
   "source": [
    "num[5] = 'boo'\n",
    "num"
   ]
  },
  {
   "cell_type": "markdown",
   "metadata": {},
   "source": [
    "**pop( )** function return the last element in the list. This is similar to the operation of a stack. Hence it wouldn't be wrong to tell that lists can be used as a stack."
   ]
  },
  {
   "cell_type": "code",
   "execution_count": 230,
   "metadata": {},
   "outputs": [
    {
     "name": "stdout",
     "output_type": "stream",
     "text": [
      "8\n",
      "[1, 2, 3, 2, 3, 'boo', 23, 1, 3, 1, 3, 111, 3, 211, 321, 1, 5, 4, 2]\n",
      "1\n",
      "[2, 3, 2, 3, 'boo', 23, 1, 3, 1, 3, 111, 3, 211, 321, 1, 5, 4, 2]\n"
     ]
    }
   ],
   "source": [
    "print(num.pop())\n",
    "print(num)\n",
    "print(num.pop(0))\n",
    "print(num)"
   ]
  },
  {
   "cell_type": "markdown",
   "metadata": {},
   "source": [
    "**pop( )** is used to remove element based on it's index value which can be assigned to a variable. One can also remove element by specifying the element itself using the **remove( )** function."
   ]
  },
  {
   "cell_type": "code",
   "execution_count": 231,
   "metadata": {},
   "outputs": [
    {
     "name": "stdout",
     "output_type": "stream",
     "text": [
      "[2, 3, 2, 3, 23, 1, 3, 1, 3, 111, 3, 211, 321, 1, 5, 4, 2]\n"
     ]
    }
   ],
   "source": [
    "num.remove('boo')\n",
    "print(num)"
   ]
  },
  {
   "cell_type": "markdown",
   "metadata": {},
   "source": [
    "Alternative to **remove** function but with using index value is **del**"
   ]
  },
  {
   "cell_type": "code",
   "execution_count": 232,
   "metadata": {},
   "outputs": [
    {
     "name": "stdout",
     "output_type": "stream",
     "text": [
      "[3, 2, 3, 23, 1, 3, 1, 3, 111, 3, 211, 321, 1, 5, 4, 2]\n"
     ]
    }
   ],
   "source": [
    "del num[0]\n",
    "print(num)"
   ]
  },
  {
   "cell_type": "markdown",
   "metadata": {},
   "source": [
    "**reverse()** function reverses the entire elements present in the list"
   ]
  },
  {
   "cell_type": "code",
   "execution_count": 233,
   "metadata": {},
   "outputs": [
    {
     "name": "stdout",
     "output_type": "stream",
     "text": [
      "[2, 4, 5, 1, 321, 211, 3, 111, 3, 1, 3, 1, 23, 3, 2, 3]\n"
     ]
    }
   ],
   "source": [
    "num.reverse()\n",
    "print(num)"
   ]
  },
  {
   "cell_type": "markdown",
   "metadata": {},
   "source": [
    "Python offers built in operation **sort( )** to arrange the elements in ascending order."
   ]
  },
  {
   "cell_type": "code",
   "execution_count": 248,
   "metadata": {},
   "outputs": [
    {
     "name": "stdout",
     "output_type": "stream",
     "text": [
      "[1, 1, 2, 2, 3, 3, 3, 3, 3, 4, 5, 23, 111, 211, 321, 999999, 1000000]\n",
      "[1, 1, 2, 2, 3, 3, 3, 3, 3, 4, 5, 23, 111, 211, 321, 999999, 1000000]\n"
     ]
    }
   ],
   "source": [
    "num.sort()\n",
    "print(num)\n",
    "print(sorted(num))"
   ]
  },
  {
   "cell_type": "markdown",
   "metadata": {},
   "source": [
    "For ** descending order **, By default the reverse condition will be False for reverse. Hence changing it to ** True ** would arrange the elements in descending order."
   ]
  },
  {
   "cell_type": "code",
   "execution_count": 236,
   "metadata": {},
   "outputs": [
    {
     "name": "stdout",
     "output_type": "stream",
     "text": [
      "[321, 211, 111, 23, 5, 4, 3, 3, 3, 3, 3, 2, 2, 1, 1, 1]\n"
     ]
    }
   ],
   "source": [
    "num.sort(reverse = True)\n",
    "print(num)"
   ]
  },
  {
   "cell_type": "markdown",
   "metadata": {},
   "source": [
    "## Something additional about LIST..."
   ]
  },
  {
   "cell_type": "markdown",
   "metadata": {},
   "source": [
    "** Copying a LIST **"
   ]
  },
  {
   "cell_type": "code",
   "execution_count": 242,
   "metadata": {},
   "outputs": [
    {
     "name": "stdout",
     "output_type": "stream",
     "text": [
      "num =  [321, 211, 111, 23, 5, 4, 3, 3, 3, 3, 3, 2, 2, 1, 1, 1]\n",
      "num_1 =  [321, 211, 111, 23, 5, 4, 3, 3, 3, 3, 3, 2, 2, 1, 1, 1]\n"
     ]
    }
   ],
   "source": [
    "num_1 = num\n",
    "print('num = ', num)\n",
    "print('num_1 = ', num_1)"
   ]
  },
  {
   "cell_type": "code",
   "execution_count": 243,
   "metadata": {},
   "outputs": [
    {
     "name": "stdout",
     "output_type": "stream",
     "text": [
      "[321, 211, 111, 23, 5, 4, 3, 3, 3, 3, 3, 2, 2, 1, 1, 1000000]\n"
     ]
    }
   ],
   "source": [
    "num.pop()\n",
    "num.append(1000000)\n",
    "print(num)"
   ]
  },
  {
   "cell_type": "code",
   "execution_count": 244,
   "metadata": {},
   "outputs": [
    {
     "name": "stdout",
     "output_type": "stream",
     "text": [
      "[321, 211, 111, 23, 5, 4, 3, 3, 3, 3, 3, 2, 2, 1, 1, 1000000]\n"
     ]
    }
   ],
   "source": [
    "print(num_1)"
   ]
  },
  {
   "cell_type": "markdown",
   "metadata": {},
   "source": [
    "num_1 has also changed though no operation has been performed on it. This is because we have assigned the same memory space of num to num_1. So how do fix this?\n",
    "\n",
    "We use the same concept of ** slicing ** (which will be discussed now) here. By doing so, we are assigning the data of lista to listb as a variable."
   ]
  },
  {
   "cell_type": "code",
   "execution_count": 246,
   "metadata": {},
   "outputs": [
    {
     "name": "stdout",
     "output_type": "stream",
     "text": [
      "[321, 211, 111, 23, 5, 4, 3, 3, 3, 3, 3, 2, 2, 1, 1, 1000000]\n",
      "[321, 211, 111, 23, 5, 4, 3, 3, 3, 3, 3, 2, 2, 1, 1, 1000000, 999999]\n",
      "[321, 211, 111, 23, 5, 4, 3, 3, 3, 3, 3, 2, 2, 1, 1, 1000000]\n"
     ]
    }
   ],
   "source": [
    "num_2 = num[:]\n",
    "print(num_2)\n",
    "\n",
    "num.append(999999)\n",
    "print(num)\n",
    "print(num_2)"
   ]
  },
  {
   "cell_type": "markdown",
   "metadata": {},
   "source": [
    "### INDEXING & SLICING"
   ]
  },
  {
   "cell_type": "code",
   "execution_count": 251,
   "metadata": {},
   "outputs": [
    {
     "name": "stdout",
     "output_type": "stream",
     "text": [
      "5\n",
      "[0, 1, 2, 3]\n",
      "[4, 5, 6, 7, 8, 9, 10]\n"
     ]
    }
   ],
   "source": [
    "integers = [0,1,2,3,4,5,6,7,8,9,10]\n",
    "print(integers[5])\n",
    "\n",
    "print (integers[0:4])    # end not inclusive\n",
    "print (integers[4:])"
   ]
  },
  {
   "cell_type": "markdown",
   "metadata": {},
   "source": [
    "* You can also slice a parent list with a fixed length or step length."
   ]
  },
  {
   "cell_type": "code",
   "execution_count": 253,
   "metadata": {},
   "outputs": [
    {
     "name": "stdout",
     "output_type": "stream",
     "text": [
      "[0, 5]\n"
     ]
    }
   ],
   "source": [
    "print(integers [:10:5])"
   ]
  },
  {
   "cell_type": "markdown",
   "metadata": {},
   "source": [
    "# Tuples"
   ]
  },
  {
   "cell_type": "code",
   "execution_count": 257,
   "metadata": {},
   "outputs": [
    {
     "name": "stdout",
     "output_type": "stream",
     "text": [
      "(3, 1)\n"
     ]
    },
    {
     "data": {
      "text/plain": [
       "tuple"
      ]
     },
     "execution_count": 257,
     "metadata": {},
     "output_type": "execute_result"
    }
   ],
   "source": [
    "abc = divmod(10,3)\n",
    "print(abc)\n",
    "type(abc)"
   ]
  },
  {
   "cell_type": "markdown",
   "metadata": {},
   "source": [
    "# Strings"
   ]
  },
  {
   "cell_type": "code",
   "execution_count": 262,
   "metadata": {},
   "outputs": [
    {
     "name": "stdout",
     "output_type": "stream",
     "text": [
      "remember you are unique!\n"
     ]
    }
   ],
   "source": [
    "my_str = 'remember you are unique!'\n",
    "print(my_str)"
   ]
  },
  {
   "cell_type": "markdown",
   "metadata": {},
   "source": [
    "* Indexing and Slicing - Similar to List & Tuple"
   ]
  },
  {
   "cell_type": "code",
   "execution_count": 267,
   "metadata": {},
   "outputs": [
    {
     "name": "stdout",
     "output_type": "stream",
     "text": [
      "e\n",
      "you are unique!\n"
     ]
    }
   ],
   "source": [
    "print(my_str[3])\n",
    "print(my_str[9:])"
   ]
  },
  {
   "cell_type": "markdown",
   "metadata": {},
   "source": [
    "**capitalize( )** is used to capitalize the first element in the string. <br>\n",
    "** upper() ** is used to make all leters capital<br>\n",
    "** lower() ** is used to make all leters lower"
   ]
  },
  {
   "cell_type": "code",
   "execution_count": 280,
   "metadata": {},
   "outputs": [
    {
     "name": "stdout",
     "output_type": "stream",
     "text": [
      "Remember you are unique!\n",
      "REMEMBER YOU ARE UNIQUE!\n",
      "remember you are unique!\n"
     ]
    }
   ],
   "source": [
    "print(my_str.capitalize())\n",
    "print(my_str.upper())\n",
    "print(my_str.lower())"
   ]
  },
  {
   "cell_type": "markdown",
   "metadata": {},
   "source": [
    "**center( )** is used to center align the string by specifying the field width."
   ]
  },
  {
   "cell_type": "code",
   "execution_count": 284,
   "metadata": {},
   "outputs": [
    {
     "name": "stdout",
     "output_type": "stream",
     "text": [
      "                       remember you are unique!                       \n"
     ]
    }
   ],
   "source": [
    "print(my_str.center(70))\n",
    "#print(my_str.center(70, '-'))"
   ]
  },
  {
   "cell_type": "markdown",
   "metadata": {},
   "source": [
    "**join( )** function is used to add a char in between the elements of the input string."
   ]
  },
  {
   "cell_type": "code",
   "execution_count": 286,
   "metadata": {},
   "outputs": [
    {
     "data": {
      "text/plain": [
       "'*remember you are unique!_remember you are unique!-remember you are unique!+remember you are unique!=remember you are unique!@'"
      ]
     },
     "execution_count": 286,
     "metadata": {},
     "output_type": "execute_result"
    }
   ],
   "source": [
    "my_str.join('*_-+=@')"
   ]
  },
  {
   "cell_type": "markdown",
   "metadata": {},
   "source": [
    "**split( )** function is used to convert a string back to a list. Think of it as the opposite of the **join()** function."
   ]
  },
  {
   "cell_type": "code",
   "execution_count": 287,
   "metadata": {},
   "outputs": [
    {
     "data": {
      "text/plain": [
       "['remember', 'you', 'are', 'unique!']"
      ]
     },
     "execution_count": 287,
     "metadata": {},
     "output_type": "execute_result"
    }
   ],
   "source": [
    "my_str.split()"
   ]
  },
  {
   "cell_type": "code",
   "execution_count": 293,
   "metadata": {},
   "outputs": [
    {
     "name": "stdout",
     "output_type": "stream",
     "text": [
      "['Remember', \" you're unique\", ' like evveryone else']\n",
      "['R', 'm', 'mb', \"r, you'r\", ' uniqu', ', lik', ' ', 'vv', 'ryon', ' ', 'ls', '']\n"
     ]
    }
   ],
   "source": [
    "my_str_1 = 'Remember, you\\'re unique, like evveryone else'\n",
    "print(my_str_1.split(','))\n",
    "print(my_str_1.split('e'))"
   ]
  },
  {
   "cell_type": "markdown",
   "metadata": {},
   "source": [
    "**replace( )** function replaces the element with another element."
   ]
  },
  {
   "cell_type": "code",
   "execution_count": 295,
   "metadata": {},
   "outputs": [
    {
     "name": "stdout",
     "output_type": "stream",
     "text": [
      "Don't forget, you're unique, like evveryone else\n"
     ]
    }
   ],
   "source": [
    "print(my_str_1.replace('Remember', 'Don\\'t forget'))"
   ]
  },
  {
   "cell_type": "markdown",
   "metadata": {},
   "source": [
    "**strip( )** function is used to delete elements from the right end and the left end which is not required."
   ]
  },
  {
   "cell_type": "code",
   "execution_count": 299,
   "metadata": {},
   "outputs": [
    {
     "name": "stdout",
     "output_type": "stream",
     "text": [
      "    hello      \n",
      "hello\n",
      "   ***----hello---*******    \n",
      "hello\n"
     ]
    }
   ],
   "source": [
    "f = '    hello      '\n",
    "print(f)\n",
    "g = f.strip()\n",
    "print(g)\n",
    "f1 ='   ***----hello---*******    '\n",
    "g1 = f1.strip('*')\n",
    "g2 = f1.strip(' *-')\n",
    "print(g1)\n",
    "print(g2)"
   ]
  },
  {
   "cell_type": "markdown",
   "metadata": {},
   "source": [
    "# Dictionaries"
   ]
  },
  {
   "cell_type": "code",
   "execution_count": 301,
   "metadata": {},
   "outputs": [
    {
     "name": "stdout",
     "output_type": "stream",
     "text": [
      "{'One': 1, 'OneTwo': 12}\n"
     ]
    }
   ],
   "source": [
    "d0 = {}\n",
    "d0['One'] = 1\n",
    "d0['OneTwo'] = 12 \n",
    "print (d0)"
   ]
  },
  {
   "cell_type": "markdown",
   "metadata": {},
   "source": [
    "** zip() ** function is used for - Two lists which are related can be merged to form a dictionary."
   ]
  },
  {
   "cell_type": "code",
   "execution_count": 306,
   "metadata": {},
   "outputs": [
    {
     "name": "stdout",
     "output_type": "stream",
     "text": [
      "{'One': 1, 'Two': 2, 'Three': 3, 'Four': 4, 'Five': 5}\n"
     ]
    }
   ],
   "source": [
    "names = ['One', 'Two', 'Three', 'Four', 'Five']\n",
    "numbers = [1, 2, 3, 4, 5]\n",
    "d1 = zip(names,numbers)\n",
    "print (dict(d1))"
   ]
  },
  {
   "cell_type": "code",
   "execution_count": 309,
   "metadata": {},
   "outputs": [
    {
     "data": {
      "text/plain": [
       "zip"
      ]
     },
     "execution_count": 309,
     "metadata": {},
     "output_type": "execute_result"
    }
   ],
   "source": [
    "type(d1)"
   ]
  },
  {
   "cell_type": "code",
   "execution_count": 310,
   "metadata": {},
   "outputs": [
    {
     "name": "stdout",
     "output_type": "stream",
     "text": [
      "{'One': 1, 'Two': 2, 'Three': 3, 'Four': 4, 'Five': 5}\n"
     ]
    }
   ],
   "source": [
    "d2={}\n",
    "for i in range(len(names)):\n",
    "    d2[names[i]] = numbers[i]\n",
    "print (d2)"
   ]
  },
  {
   "cell_type": "code",
   "execution_count": 311,
   "metadata": {},
   "outputs": [
    {
     "data": {
      "text/plain": [
       "dict"
      ]
     },
     "execution_count": 311,
     "metadata": {},
     "output_type": "execute_result"
    }
   ],
   "source": [
    "type(d2)"
   ]
  },
  {
   "cell_type": "markdown",
   "metadata": {},
   "source": [
    "** values(), keys(), items() **"
   ]
  },
  {
   "cell_type": "code",
   "execution_count": 312,
   "metadata": {},
   "outputs": [
    {
     "data": {
      "text/plain": [
       "dict_values([1, 2, 3, 4, 5])"
      ]
     },
     "execution_count": 312,
     "metadata": {},
     "output_type": "execute_result"
    }
   ],
   "source": [
    "d2.values()"
   ]
  },
  {
   "cell_type": "code",
   "execution_count": 313,
   "metadata": {},
   "outputs": [
    {
     "data": {
      "text/plain": [
       "dict_keys(['One', 'Two', 'Three', 'Four', 'Five'])"
      ]
     },
     "execution_count": 313,
     "metadata": {},
     "output_type": "execute_result"
    }
   ],
   "source": [
    "d2.keys()"
   ]
  },
  {
   "cell_type": "code",
   "execution_count": 314,
   "metadata": {},
   "outputs": [
    {
     "data": {
      "text/plain": [
       "dict_items([('One', 1), ('Two', 2), ('Three', 3), ('Four', 4), ('Five', 5)])"
      ]
     },
     "execution_count": 314,
     "metadata": {},
     "output_type": "execute_result"
    }
   ],
   "source": [
    "d2.items()"
   ]
  },
  {
   "cell_type": "code",
   "execution_count": null,
   "metadata": {
    "collapsed": true
   },
   "outputs": [],
   "source": []
  }
 ],
 "metadata": {
  "kernelspec": {
   "display_name": "Python 3",
   "language": "python",
   "name": "python3"
  },
  "language_info": {
   "codemirror_mode": {
    "name": "ipython",
    "version": 3
   },
   "file_extension": ".py",
   "mimetype": "text/x-python",
   "name": "python",
   "nbconvert_exporter": "python",
   "pygments_lexer": "ipython3",
   "version": "3.6.3"
  }
 },
 "nbformat": 4,
 "nbformat_minor": 2
}
